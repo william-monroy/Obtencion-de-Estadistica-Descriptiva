{
  "cells": [
    {
      "cell_type": "markdown",
      "metadata": {
        "colab_type": "text",
        "id": "view-in-github"
      },
      "source": [
        "<a href=\"https://colab.research.google.com/github/william-monroy/Obtencion-de-Estadistica-Descriptiva/blob/master/Obtenci%C3%B3n_de_estadisticas_descriptivas.ipynb\" target=\"_parent\"><img src=\"https://colab.research.google.com/assets/colab-badge.svg\" alt=\"Open In Colab\"/></a>"
      ]
    },
    {
      "cell_type": "markdown",
      "metadata": {
        "id": "jkkKdKYFw8pt"
      },
      "source": [
        "# Datos generales"
      ]
    },
    {
      "cell_type": "markdown",
      "metadata": {
        "id": "LXPIzvTJwPeP"
      },
      "source": [
        "**Actividad Evaluable: Obtención de estadísticas descriptivas**\n",
        "\n",
        "*Equipo 4 - Integrantes:*\n",
        "\n",
        "*William Frank Monroy Mamani - A00829796*\n",
        "\n",
        "*José Moisés López Alanís - A01284506*\n",
        "\n",
        "*Sergio Eduardo Chavez Villegas - A01284297*\n",
        "\n",
        "*Ezequiel Lozano Guerrero - A01734172*\n",
        "\n",
        "*Jose Manuel Caceres Esponda - A00831382*"
      ]
    },
    {
      "cell_type": "code",
      "execution_count": 10,
      "metadata": {},
      "outputs": [
        {
          "data": {
            "text/html": [
              "<div>\n",
              "<style scoped>\n",
              "    .dataframe tbody tr th:only-of-type {\n",
              "        vertical-align: middle;\n",
              "    }\n",
              "\n",
              "    .dataframe tbody tr th {\n",
              "        vertical-align: top;\n",
              "    }\n",
              "\n",
              "    .dataframe thead th {\n",
              "        text-align: right;\n",
              "    }\n",
              "</style>\n",
              "<table border=\"1\" class=\"dataframe\">\n",
              "  <thead>\n",
              "    <tr style=\"text-align: right;\">\n",
              "      <th></th>\n",
              "      <th>Alcohol</th>\n",
              "      <th>Malic_Acid</th>\n",
              "      <th>Ash</th>\n",
              "      <th>Ash_Alcanity</th>\n",
              "      <th>Magnesium</th>\n",
              "      <th>Total_Phenols</th>\n",
              "      <th>Flavanoids</th>\n",
              "      <th>Nonflavanoid_Phenols</th>\n",
              "      <th>Proanthocyanins</th>\n",
              "      <th>Color_Intensity</th>\n",
              "      <th>Hue</th>\n",
              "      <th>OD280</th>\n",
              "      <th>Proline</th>\n",
              "    </tr>\n",
              "  </thead>\n",
              "  <tbody>\n",
              "    <tr>\n",
              "      <th>0</th>\n",
              "      <td>14.23</td>\n",
              "      <td>1.71</td>\n",
              "      <td>2.43</td>\n",
              "      <td>15.6</td>\n",
              "      <td>127</td>\n",
              "      <td>2.80</td>\n",
              "      <td>3.06</td>\n",
              "      <td>0.28</td>\n",
              "      <td>2.29</td>\n",
              "      <td>5.64</td>\n",
              "      <td>1.04</td>\n",
              "      <td>3.92</td>\n",
              "      <td>1065</td>\n",
              "    </tr>\n",
              "    <tr>\n",
              "      <th>1</th>\n",
              "      <td>13.20</td>\n",
              "      <td>1.78</td>\n",
              "      <td>2.14</td>\n",
              "      <td>11.2</td>\n",
              "      <td>100</td>\n",
              "      <td>2.65</td>\n",
              "      <td>2.76</td>\n",
              "      <td>0.26</td>\n",
              "      <td>1.28</td>\n",
              "      <td>4.38</td>\n",
              "      <td>1.05</td>\n",
              "      <td>3.40</td>\n",
              "      <td>1050</td>\n",
              "    </tr>\n",
              "    <tr>\n",
              "      <th>2</th>\n",
              "      <td>13.16</td>\n",
              "      <td>2.36</td>\n",
              "      <td>2.67</td>\n",
              "      <td>18.6</td>\n",
              "      <td>101</td>\n",
              "      <td>2.80</td>\n",
              "      <td>3.24</td>\n",
              "      <td>0.30</td>\n",
              "      <td>2.81</td>\n",
              "      <td>5.68</td>\n",
              "      <td>1.03</td>\n",
              "      <td>3.17</td>\n",
              "      <td>1185</td>\n",
              "    </tr>\n",
              "    <tr>\n",
              "      <th>3</th>\n",
              "      <td>14.37</td>\n",
              "      <td>1.95</td>\n",
              "      <td>2.50</td>\n",
              "      <td>16.8</td>\n",
              "      <td>113</td>\n",
              "      <td>3.85</td>\n",
              "      <td>3.49</td>\n",
              "      <td>0.24</td>\n",
              "      <td>2.18</td>\n",
              "      <td>7.80</td>\n",
              "      <td>0.86</td>\n",
              "      <td>3.45</td>\n",
              "      <td>1480</td>\n",
              "    </tr>\n",
              "    <tr>\n",
              "      <th>4</th>\n",
              "      <td>13.24</td>\n",
              "      <td>2.59</td>\n",
              "      <td>2.87</td>\n",
              "      <td>21.0</td>\n",
              "      <td>118</td>\n",
              "      <td>2.80</td>\n",
              "      <td>2.69</td>\n",
              "      <td>0.39</td>\n",
              "      <td>1.82</td>\n",
              "      <td>4.32</td>\n",
              "      <td>1.04</td>\n",
              "      <td>2.93</td>\n",
              "      <td>735</td>\n",
              "    </tr>\n",
              "  </tbody>\n",
              "</table>\n",
              "</div>"
            ],
            "text/plain": [
              "   Alcohol  Malic_Acid   Ash  Ash_Alcanity  Magnesium  Total_Phenols  \\\n",
              "0    14.23        1.71  2.43          15.6        127           2.80   \n",
              "1    13.20        1.78  2.14          11.2        100           2.65   \n",
              "2    13.16        2.36  2.67          18.6        101           2.80   \n",
              "3    14.37        1.95  2.50          16.8        113           3.85   \n",
              "4    13.24        2.59  2.87          21.0        118           2.80   \n",
              "\n",
              "   Flavanoids  Nonflavanoid_Phenols  Proanthocyanins  Color_Intensity   Hue  \\\n",
              "0        3.06                  0.28             2.29             5.64  1.04   \n",
              "1        2.76                  0.26             1.28             4.38  1.05   \n",
              "2        3.24                  0.30             2.81             5.68  1.03   \n",
              "3        3.49                  0.24             2.18             7.80  0.86   \n",
              "4        2.69                  0.39             1.82             4.32  1.04   \n",
              "\n",
              "   OD280  Proline  \n",
              "0   3.92     1065  \n",
              "1   3.40     1050  \n",
              "2   3.17     1185  \n",
              "3   3.45     1480  \n",
              "4   2.93      735  "
            ]
          },
          "execution_count": 10,
          "metadata": {},
          "output_type": "execute_result"
        }
      ],
      "source": [
        "import pandas as pd\n",
        "df = pd.read_csv('wine-clustering.csv')\n",
        "df.head()"
      ]
    },
    {
      "cell_type": "markdown",
      "metadata": {},
      "source": [
        "### **Pregunta 1:** Verifica la cantidad de datos que tienes tanto para las variables (columnas) como para los renglones. Identifica el tipo de dato de cada variable (numérica, objeto, etc)."
      ]
    },
    {
      "cell_type": "code",
      "execution_count": 12,
      "metadata": {
        "id": "OdqoJtZ2utEa"
      },
      "outputs": [
        {
          "name": "stdout",
          "output_type": "stream",
          "text": [
            "Filas: 178 Columnas: 13\n",
            "\n",
            "Tipos de Datos del DataFrame\n",
            "Alcohol                 float64\n",
            "Malic_Acid              float64\n",
            "Ash                     float64\n",
            "Ash_Alcanity            float64\n",
            "Magnesium                 int64\n",
            "Total_Phenols           float64\n",
            "Flavanoids              float64\n",
            "Nonflavanoid_Phenols    float64\n",
            "Proanthocyanins         float64\n",
            "Color_Intensity         float64\n",
            "Hue                     float64\n",
            "OD280                   float64\n",
            "Proline                   int64\n",
            "dtype: object\n"
          ]
        }
      ],
      "source": [
        "# Cantidad de filas y columnas\n",
        "shape = df.shape\n",
        "print('Filas:',shape[0],'Columnas:',shape[1])\n",
        "print()\n",
        "# Tipos de Datos del DataFrame\n",
        "print('Tipos de Datos del DataFrame')\n",
        "print(df.dtypes)"
      ]
    },
    {
      "cell_type": "markdown",
      "metadata": {},
      "source": [
        "### **Pregunta 2:** Analiza las variables para saber que representa cada una, en que rangos se encuentran y cuales son sus cuartiles. Si la descripción del problema no te lo indica, utiliza el máximo y el mínimo para encontrarlo."
      ]
    },
    {
      "cell_type": "code",
      "execution_count": 13,
      "metadata": {},
      "outputs": [
        {
          "name": "stdout",
          "output_type": "stream",
          "text": [
            "Análisis de Variables:\n",
            "Alcohol              -> Porcentaje de Alcohol \n",
            "Malic_Acid           -> Porcentaje de Ácido Málico\n",
            "Ash                  -> Porcentaje de Ceniza\n",
            "Ash_Alcanity         -> Porcentaje de Alcalinidad de la Ceniza\n",
            "Magnesium            -> Cantidad de miligramos de Magnesio\n",
            "Total_Phenols        -> Porcentaje de Fenoles Totales\n",
            "Flavanoids           -> Porcentaje de Flavanoides\n",
            "Nonflavanoid_Phenols -> Porcentaje de Fenoles no flavonoides\n",
            "Proanthocyanins      -> Porcentaje de Proantocianinas\n",
            "Color_Intensity      -> Porcentaje de Intensidad de Color\n",
            "Hue                  -> Porcentaje de Hue\n",
            "OD280                -> Porcentaje de OD280\n",
            "Proline              -> Cantidad de Prolina\n",
            "\n",
            "Máximos, mínimos y Cuartiles\n",
            "       Alcohol  Malic_Acid     Ash  Ash_Alcanity  Magnesium  Total_Phenols  \\\n",
            "count   178.00      178.00  178.00        178.00     178.00         178.00   \n",
            "mean     13.00        2.34    2.37         19.49      99.74           2.30   \n",
            "std       0.81        1.12    0.27          3.34      14.28           0.63   \n",
            "min      11.03        0.74    1.36         10.60      70.00           0.98   \n",
            "25%      12.36        1.60    2.21         17.20      88.00           1.74   \n",
            "50%      13.05        1.87    2.36         19.50      98.00           2.36   \n",
            "75%      13.68        3.08    2.56         21.50     107.00           2.80   \n",
            "max      14.83        5.80    3.23         30.00     162.00           3.88   \n",
            "\n",
            "       Flavanoids  Nonflavanoid_Phenols  Proanthocyanins  Color_Intensity  \\\n",
            "count      178.00                178.00           178.00           178.00   \n",
            "mean         2.03                  0.36             1.59             5.06   \n",
            "std          1.00                  0.12             0.57             2.32   \n",
            "min          0.34                  0.13             0.41             1.28   \n",
            "25%          1.20                  0.27             1.25             3.22   \n",
            "50%          2.13                  0.34             1.56             4.69   \n",
            "75%          2.88                  0.44             1.95             6.20   \n",
            "max          5.08                  0.66             3.58            13.00   \n",
            "\n",
            "          Hue   OD280  Proline  \n",
            "count  178.00  178.00   178.00  \n",
            "mean     0.96    2.61   746.89  \n",
            "std      0.23    0.71   314.91  \n",
            "min      0.48    1.27   278.00  \n",
            "25%      0.78    1.94   500.50  \n",
            "50%      0.96    2.78   673.50  \n",
            "75%      1.12    3.17   985.00  \n",
            "max      1.71    4.00  1680.00  \n"
          ]
        }
      ],
      "source": [
        "print('''Análisis de Variables:\n",
        "Alcohol              -> Porcentaje de Alcohol \n",
        "Malic_Acid           -> Porcentaje de Ácido Málico\n",
        "Ash                  -> Porcentaje de Ceniza\n",
        "Ash_Alcanity         -> Porcentaje de Alcalinidad de la Ceniza\n",
        "Magnesium            -> Cantidad de miligramos de Magnesio\n",
        "Total_Phenols        -> Porcentaje de Fenoles Totales\n",
        "Flavanoids           -> Porcentaje de Flavanoides\n",
        "Nonflavanoid_Phenols -> Porcentaje de Fenoles no flavonoides\n",
        "Proanthocyanins      -> Porcentaje de Proantocianinas\n",
        "Color_Intensity      -> Porcentaje de Intensidad de Color\n",
        "Hue                  -> Porcentaje de Hue\n",
        "OD280                -> Porcentaje de OD280\n",
        "Proline              -> Cantidad de Prolina\n",
        "''')\n",
        "# Valores Máximos, Mínimos y Cuartiles\n",
        "print('Máximos, mínimos y Cuartiles')\n",
        "print(df.describe().round(2))"
      ]
    },
    {
      "cell_type": "markdown",
      "metadata": {},
      "source": [
        "### **Pregunta 3** Realiza 1 pregunta por persona sobre los datos (de la misma manera que se ve en clase) y respóndelas. En el reporte debes dejar pregunta y respuesta con el nombre del alumno."
      ]
    },
    {
      "cell_type": "markdown",
      "metadata": {},
      "source": [
        "### **Moisés López:** ¿Cuántos tienen un mayor porcentaje de 13 en el alcohol?"
      ]
    },
    {
      "cell_type": "code",
      "execution_count": 14,
      "metadata": {},
      "outputs": [
        {
          "data": {
            "text/plain": [
              "92"
            ]
          },
          "execution_count": 14,
          "metadata": {},
          "output_type": "execute_result"
        }
      ],
      "source": [
        "df[df.Alcohol > 13].shape[0]"
      ]
    },
    {
      "cell_type": "markdown",
      "metadata": {},
      "source": [
        "### **William Monroy:** ¿Cual es la media, mediana y moda de cada columna?"
      ]
    },
    {
      "cell_type": "code",
      "execution_count": 15,
      "metadata": {},
      "outputs": [
        {
          "name": "stdout",
          "output_type": "stream",
          "text": [
            "------Media------\n",
            "Alcohol                  13.000618\n",
            "Malic_Acid                2.336348\n",
            "Ash                       2.366517\n",
            "Ash_Alcanity             19.494944\n",
            "Magnesium                99.741573\n",
            "Total_Phenols             2.295112\n",
            "Flavanoids                2.029270\n",
            "Nonflavanoid_Phenols      0.361854\n",
            "Proanthocyanins           1.590899\n",
            "Color_Intensity           5.058090\n",
            "Hue                       0.957449\n",
            "OD280                     2.611685\n",
            "Proline                 746.893258\n",
            "dtype: float64\n",
            "------Mediana------\n",
            "Alcohol                  13.050\n",
            "Malic_Acid                1.865\n",
            "Ash                       2.360\n",
            "Ash_Alcanity             19.500\n",
            "Magnesium                98.000\n",
            "Total_Phenols             2.355\n",
            "Flavanoids                2.135\n",
            "Nonflavanoid_Phenols      0.340\n",
            "Proanthocyanins           1.555\n",
            "Color_Intensity           4.690\n",
            "Hue                       0.965\n",
            "OD280                     2.780\n",
            "Proline                 673.500\n",
            "dtype: float64\n",
            "------Moda------\n",
            "   Alcohol  Malic_Acid   Ash  Ash_Alcanity  Magnesium  Total_Phenols  \\\n",
            "0    12.37        1.73  2.28          20.0       88.0            2.2   \n",
            "1    13.05         NaN  2.30           NaN        NaN            NaN   \n",
            "2      NaN         NaN   NaN           NaN        NaN            NaN   \n",
            "\n",
            "   Flavanoids  Nonflavanoid_Phenols  Proanthocyanins  Color_Intensity   Hue  \\\n",
            "0        2.65                  0.26             1.35              2.6  1.04   \n",
            "1         NaN                  0.43              NaN              3.8   NaN   \n",
            "2         NaN                   NaN              NaN              4.6   NaN   \n",
            "\n",
            "   OD280  Proline  \n",
            "0   2.87    520.0  \n",
            "1    NaN    680.0  \n",
            "2    NaN      NaN  \n"
          ]
        }
      ],
      "source": [
        "# Media\n",
        "print('------Media------')\n",
        "print(df.mean())\n",
        "# Mediana\n",
        "print('------Mediana------')\n",
        "print(df.median())\n",
        "# Moda\n",
        "print('------Moda------')\n",
        "print(df.mode())\n"
      ]
    },
    {
      "cell_type": "markdown",
      "metadata": {},
      "source": [
        "## **Jose Caceres** Cuantos tienen un nivel de magnesio menor a 100?\n"
      ]
    },
    {
      "cell_type": "code",
      "execution_count": 16,
      "metadata": {},
      "outputs": [
        {
          "data": {
            "text/plain": [
              "97"
            ]
          },
          "execution_count": 16,
          "metadata": {},
          "output_type": "execute_result"
        }
      ],
      "source": [
        "df[df.Magnesium < 100].shape[0]"
      ]
    },
    {
      "cell_type": "markdown",
      "metadata": {},
      "source": [
        "## **Sergio Chávez** Cuál es el porcentaje más bajo de alcohol?"
      ]
    },
    {
      "cell_type": "code",
      "execution_count": 17,
      "metadata": {},
      "outputs": [
        {
          "data": {
            "text/plain": [
              "11.03"
            ]
          },
          "execution_count": 17,
          "metadata": {},
          "output_type": "execute_result"
        }
      ],
      "source": [
        "df.Alcohol.min()"
      ]
    },
    {
      "cell_type": "markdown",
      "metadata": {},
      "source": [
        "### **Pregunta 4:** Basándose en la media, mediana y desviación estándar de las variables, ¿Qué conclusiones puedes tener de los datos? ¿Crees que esta base de datos tendría buena respuesta para clustering/agrupación?"
      ]
    },
    {
      "cell_type": "markdown",
      "metadata": {},
      "source": [
        "**William Monroy:**\n",
        "- Como la media y la mediana del DataFrame no distan mucho numéricamente significa que no tenemos datos que estén ocasionanado una desproporción debido a su valor.\n",
        "- Sí, dependiendo de las bebidas que vayamos a analizar o estén incluidas en la base de datos ya que no todas las bebidas alcohólicas comparten características iguales, sino similares y por tanto estas se pueden agrupar en grupos con clustering para los fines que se dispongan."
      ]
    },
    {
      "cell_type": "markdown",
      "metadata": {},
      "source": [
        "**Moisés López:** \n",
        "- Basados en la desviacion estandar es la media que define que tan separados van a estar los datos con ayuda de la media. Se puede decir que la media no cambia mucho pero se ve que en el magnesio y prolina los datos estan muy dispersos y harian que la desviacion estandar este separada por la diferencia de datos que tienen esas dos comparadas con los demas.\n",
        "- Yo diria que si se pudieran agrupar porque dependiendo con lo que lo vayamos agrupas que ene este caso seria por otras bebidas alcohólicas, no creo que cambie tanto y asi seria mas facil de agruparlos.\n"
      ]
    },
    {
      "cell_type": "markdown",
      "metadata": {},
      "source": [
        "**Jose Caceres:** \n",
        "\n",
        "\n",
        "*   Tomando en cuenta los valores de la media, mediana y desviacion podemos determinar que todos los valores de las bebidas en este documento son parecidas.\n",
        "\n",
        "*   Si se podrian agrupar, si otras bebidas alcoholicas son agregadas estas se al tener rasgos parecidos no tendrian problema encontrando un lugar al que agruparse."
      ]
    },
    {
      "cell_type": "markdown",
      "metadata": {},
      "source": [
        "**Sergio Chávez**\n",
        "\n",
        "*   Las mediciones como la desviación estándar, media y mediana nos indican que no hay una variación grande entre los valores de los datos.\n",
        "\n",
        "*   Tomando en cuenta esto, nos indica que estos datos podrían ser agrupados y tener algún tipo de relación, lo que describiría de forma precisa estos datos en las distintas agrupaciones que se podrían hacer."
      ]
    },
    {
      "cell_type": "markdown",
      "metadata": {},
      "source": [
        "**Ezequiel Lozano**\n",
        "\n",
        "*   .\n",
        "\n",
        "*   ."
      ]
    }
  ],
  "metadata": {
    "colab": {
      "include_colab_link": true,
      "name": "Actividad Evaluable: Obtención de estadisticas descriptivas.ipynb",
      "provenance": [],
      "toc_visible": true
    },
    "interpreter": {
      "hash": "99cc052a2b4eeae3d6c82bf86731e98d924814d400f12e530ad0236656dd363e"
    },
    "kernelspec": {
      "display_name": "Python 3.7.6 64-bit ('base': conda)",
      "name": "python3"
    },
    "language_info": {
      "codemirror_mode": {
        "name": "ipython",
        "version": 3
      },
      "file_extension": ".py",
      "mimetype": "text/x-python",
      "name": "python",
      "nbconvert_exporter": "python",
      "pygments_lexer": "ipython3",
      "version": "3.7.6"
    }
  },
  "nbformat": 4,
  "nbformat_minor": 2
}
