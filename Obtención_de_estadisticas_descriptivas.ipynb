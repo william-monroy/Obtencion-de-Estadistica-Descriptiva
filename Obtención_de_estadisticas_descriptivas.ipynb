{
  "cells": [
    {
      "cell_type": "markdown",
      "metadata": {
        "colab_type": "text",
        "id": "view-in-github"
      },
      "source": [
        "<a href=\"https://colab.research.google.com/github/william-monroy/Obtencion-de-Estadistica-Descriptiva/blob/master/Obtenci%C3%B3n_de_estadisticas_descriptivas.ipynb\" target=\"_parent\"><img src=\"https://colab.research.google.com/assets/colab-badge.svg\" alt=\"Open In Colab\"/></a>"
      ]
    },
    {
      "cell_type": "markdown",
      "metadata": {
        "id": "jkkKdKYFw8pt"
      },
      "source": [
        "# Datos generales"
      ]
    },
    {
      "cell_type": "markdown",
      "metadata": {
        "id": "LXPIzvTJwPeP"
      },
      "source": [
        "**Actividad Evaluable: Obtención de estadísticas descriptivas**\n",
        "\n",
        "*Equipo 4 - Integrantes:*\n",
        "\n",
        "*William Frank Monroy Mamani - A00829796*\n",
        "\n",
        "*José Moisés López Alanís - A01284506*\n",
        "\n",
        "*Sergio Eduardo Chavez Villegas - A01284297*\n",
        "\n",
        "*Ezequiel Lozano Guerrero - A01734172*\n",
        "\n",
        "*Jose Manuel Caceres Esponda - A00831382*"
      ]
    },
    {
      "cell_type": "code",
      "execution_count": 1,
      "metadata": {
        "id": "OdqoJtZ2utEa"
      },
      "outputs": [
        {
          "name": "stdout",
          "output_type": "stream",
          "text": [
            "Hola equipo 4\n",
            "Hola desde GitHub\n"
          ]
        }
      ],
      "source": [
        "print(\"Hola equipo 4\")\n",
        "print('Hola desde GitHub')"
      ]
    }
  ],
  "metadata": {
    "colab": {
      "include_colab_link": true,
      "name": "Actividad Evaluable: Obtención de estadisticas descriptivas.ipynb",
      "provenance": [],
      "toc_visible": true
    },
    "interpreter": {
      "hash": "0ac15a147627136cb9ee645ddc0d2716b9382deefdd79cd4420bc8b8695e236d"
    },
    "kernelspec": {
      "display_name": "Python 3.8.6 64-bit",
      "name": "python3"
    },
    "language_info": {
      "codemirror_mode": {
        "name": "ipython",
        "version": 3
      },
      "file_extension": ".py",
      "mimetype": "text/x-python",
      "name": "python",
      "nbconvert_exporter": "python",
      "pygments_lexer": "ipython3",
      "version": "3.8.6"
    }
  },
  "nbformat": 4,
  "nbformat_minor": 2
}
