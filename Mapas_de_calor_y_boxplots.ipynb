{
  "nbformat": 4,
  "nbformat_minor": 0,
  "metadata": {
    "colab": {
      "name": "Mapas de calor y boxplots.ipynb",
      "provenance": [],
      "authorship_tag": "ABX9TyPeX7BKYa90aQx7JEp4o1G5",
      "include_colab_link": true
    },
    "kernelspec": {
      "name": "python3",
      "display_name": "Python 3"
    },
    "language_info": {
      "name": "python"
    }
  },
  "cells": [
    {
      "cell_type": "markdown",
      "metadata": {
        "id": "view-in-github",
        "colab_type": "text"
      },
      "source": [
        "<a href=\"https://colab.research.google.com/github/william-monroy/Obtencion-de-Estadistica-Descriptiva/blob/master/Mapas_de_calor_y_boxplots.ipynb\" target=\"_parent\"><img src=\"https://colab.research.google.com/assets/colab-badge.svg\" alt=\"Open In Colab\"/></a>"
      ]
    },
    {
      "cell_type": "code",
      "metadata": {
        "id": "8XiKH1NCpwaI"
      },
      "source": [
        "# Datos generales"
      ],
      "execution_count": 1,
      "outputs": []
    },
    {
      "cell_type": "markdown",
      "metadata": {
        "id": "prP-TJftp0WY"
      },
      "source": [
        "**Actividad Evaluable: Mapas de calor y boxplots**\n",
        "\n",
        "*Equipo 4 - Integrantes:*\n",
        "\n",
        "*William Frank Monroy Mamani - A00829796*\n",
        "\n",
        "*José Moisés López Alanís - A01284506*\n",
        "\n",
        "*Sergio Eduardo Chavez Villegas - A01284297*\n",
        "\n",
        "*Ezequiel Lozano Guerrero - A01734172*\n",
        "\n",
        "*Jose Manuel Caceres Esponda - A00831382*"
      ]
    },
    {
      "cell_type": "markdown",
      "metadata": {
        "id": "p5C4dsr5p6dp"
      },
      "source": [
        ""
      ]
    },
    {
      "cell_type": "code",
      "metadata": {
        "id": "SWGjCvhHp8ph"
      },
      "source": [
        ""
      ],
      "execution_count": null,
      "outputs": []
    }
  ]
}