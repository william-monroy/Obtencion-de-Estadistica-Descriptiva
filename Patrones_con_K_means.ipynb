{
  "cells": [
    {
      "cell_type": "markdown",
      "metadata": {
        "colab_type": "text",
        "id": "view-in-github"
      },
      "source": [
        "<a href=\"https://colab.research.google.com/github/william-monroy/Obtencion-de-Estadistica-Descriptiva/blob/master/Patrones_con_K_means.ipynb\" target=\"_parent\"><img src=\"https://colab.research.google.com/assets/colab-badge.svg\" alt=\"Open In Colab\"/></a>"
      ]
    },
    {
      "cell_type": "markdown",
      "metadata": {
        "id": "NY2LbPZ4iI6y"
      },
      "source": [
        "**Actividad Evaluable: Patrones con K-means**\n",
        "\n",
        "*Equipo 4 - Integrantes:*\n",
        "\n",
        "*William Frank Monroy Mamani - A00829796*\n",
        "\n",
        "*José Moisés López Alanís - A01284506*\n",
        "\n",
        "*Sergio Eduardo Chavez Villegas - A01284297*\n",
        "\n",
        "*Ezequiel Lozano Guerrero - A01734172*\n",
        "\n",
        "*Jose Manuel Caceres Esponda - A00831382*\n"
      ]
    },
    {
      "cell_type": "code",
      "execution_count": 63,
      "metadata": {
        "id": "c4PU5F-tiCAq"
      },
      "outputs": [],
      "source": [
        "import pandas as pd\n",
        "from sklearn.preprocessing import MinMaxScaler\n",
        "dataset = pd.read_csv('wine-clustering.csv')\n",
        "dataset.head()\n",
        "scaler = MinMaxScaler()\n",
        "dataset = pd.DataFrame(scaler.fit_transform(dataset))\n"
      ]
    },
    {
      "cell_type": "markdown",
      "metadata": {},
      "source": [
        "## **Selección de variables**\n"
      ]
    },
    {
      "cell_type": "code",
      "execution_count": 64,
      "metadata": {},
      "outputs": [
        {
          "data": {
            "text/plain": [
              "array([[0.84210526, 0.1916996 ],\n",
              "       [0.57105263, 0.2055336 ],\n",
              "       [0.56052632, 0.3201581 ],\n",
              "       [0.87894737, 0.23913043],\n",
              "       [0.58157895, 0.36561265],\n",
              "       [0.83421053, 0.20158103],\n",
              "       [0.88421053, 0.22332016],\n",
              "       [0.79736842, 0.27865613],\n",
              "       [1.        , 0.17786561],\n",
              "       [0.74473684, 0.12055336],\n",
              "       [0.80789474, 0.28063241],\n",
              "       [0.81315789, 0.14624506],\n",
              "       [0.71578947, 0.19565217],\n",
              "       [0.97894737, 0.19565217],\n",
              "       [0.88157895, 0.22332016],\n",
              "       [0.68421053, 0.21146245],\n",
              "       [0.86052632, 0.23320158],\n",
              "       [0.73684211, 0.16403162],\n",
              "       [0.83157895, 0.16798419],\n",
              "       [0.68684211, 0.46640316],\n",
              "       [0.79736842, 0.17588933],\n",
              "       [0.5       , 0.60474308],\n",
              "       [0.70526316, 0.22134387],\n",
              "       [0.47894737, 0.16996047],\n",
              "       [0.65      , 0.21146245],\n",
              "       [0.53157895, 0.25889328],\n",
              "       [0.62105263, 0.20355731],\n",
              "       [0.59736842, 0.19367589],\n",
              "       [0.74736842, 0.22924901],\n",
              "       [0.78684211, 0.18577075],\n",
              "       [0.71052632, 0.15019763],\n",
              "       [0.67105263, 0.18181818],\n",
              "       [0.69736842, 0.21541502],\n",
              "       [0.71842105, 0.15612648],\n",
              "       [0.65263158, 0.20948617],\n",
              "       [0.64473684, 0.21146245],\n",
              "       [0.59210526, 0.17786561],\n",
              "       [0.53157895, 0.1798419 ],\n",
              "       [0.53684211, 0.15019763],\n",
              "       [0.83947368, 0.64229249],\n",
              "       [0.66578947, 0.1916996 ],\n",
              "       [0.62631579, 0.61264822],\n",
              "       [0.75      , 0.22727273],\n",
              "       [0.58157895, 0.64031621],\n",
              "       [0.53157895, 0.20355731],\n",
              "       [0.83684211, 0.65217391],\n",
              "       [0.88157895, 0.56324111],\n",
              "       [0.75526316, 0.18577075],\n",
              "       [0.80789474, 0.25296443],\n",
              "       [0.76578947, 0.19565217],\n",
              "       [0.53157895, 0.19565217],\n",
              "       [0.73684211, 0.1798419 ],\n",
              "       [0.73421053, 0.19960474],\n",
              "       [0.72105263, 0.22924901],\n",
              "       [0.71315789, 0.18379447],\n",
              "       [0.66578947, 0.19565217],\n",
              "       [0.83947368, 0.18972332],\n",
              "       [0.59473684, 0.243083  ],\n",
              "       [0.70789474, 0.13636364],\n",
              "       [0.35263158, 0.03952569],\n",
              "       [0.34210526, 0.07114625],\n",
              "       [0.42368421, 0.12252964],\n",
              "       [0.69473684, 0.10079051],\n",
              "       [0.35263158, 0.0770751 ],\n",
              "       [0.3       , 0.14031621],\n",
              "       [0.35263158, 0.09288538],\n",
              "       [0.54736842, 0.05335968],\n",
              "       [0.35263158, 0.08498024],\n",
              "       [0.60789474, 0.03952569],\n",
              "       [0.31052632, 0.08893281],\n",
              "       [0.33157895, 0.17193676],\n",
              "       [0.74473684, 0.15217391],\n",
              "       [0.64736842, 0.18181818],\n",
              "       [0.51578947, 0.18379447],\n",
              "       [0.24473684, 0.06916996],\n",
              "       [0.16578947, 0.22529644],\n",
              "       [0.52631579, 0.03162055],\n",
              "       [0.21315789, 0.42490119],\n",
              "       [0.34210526, 0.04940711],\n",
              "       [0.43947368, 0.61857708],\n",
              "       [0.25526316, 0.03557312],\n",
              "       [0.44473684, 0.21146245],\n",
              "       [0.27631579, 0.0770751 ],\n",
              "       [0.53157895, 0.61660079],\n",
              "       [0.21315789, 0.02964427],\n",
              "       [0.43157895, 0.04743083],\n",
              "       [0.29736842, 0.17193676],\n",
              "       [0.16315789, 0.18379447],\n",
              "       [0.16052632, 0.26086957],\n",
              "       [0.27631579, 0.11660079],\n",
              "       [0.27631579, 0.21541502],\n",
              "       [0.25526316, 0.15217391],\n",
              "       [0.43684211, 0.15612648],\n",
              "       [0.33157895, 0.41304348],\n",
              "       [0.15526316, 0.24703557],\n",
              "       [0.37894737, 0.1541502 ],\n",
              "       [0.20526316, 0.27272727],\n",
              "       [0.33157895, 0.13241107],\n",
              "       [0.35263158, 0.06521739],\n",
              "       [0.33157895, 0.48023715],\n",
              "       [0.27631579, 0.26482213],\n",
              "       [0.41315789, 0.11857708],\n",
              "       [0.34473684, 0.33794466],\n",
              "       [0.20789474, 0.19367589],\n",
              "       [0.38947368, 0.19565217],\n",
              "       [0.36578947, 0.35770751],\n",
              "       [0.32105263, 0.19565217],\n",
              "       [0.44473684, 0.19960474],\n",
              "       [0.31315789, 0.10869565],\n",
              "       [0.15263158, 0.12055336],\n",
              "       [0.11315789, 0.59288538],\n",
              "       [0.39210526, 0.33399209],\n",
              "       [0.19210526, 0.38339921],\n",
              "       [0.1       , 0.        ],\n",
              "       [0.27631579, 0.1284585 ],\n",
              "       [0.        , 0.15217391],\n",
              "       [0.20789474, 0.14426877],\n",
              "       [0.36578947, 0.17193676],\n",
              "       [0.45789474, 0.53162055],\n",
              "       [0.25526316, 0.53162055],\n",
              "       [0.11052632, 0.32806324],\n",
              "       [0.13947368, 0.25889328],\n",
              "       [0.36578947, 0.72924901],\n",
              "       [0.53157895, 1.        ],\n",
              "       [0.22105263, 0.7055336 ],\n",
              "       [0.27368421, 0.28063241],\n",
              "       [0.36842105, 0.15612648],\n",
              "       [0.2       , 0.27470356],\n",
              "       [0.35263158, 0.17588933],\n",
              "       [0.26578947, 0.70355731],\n",
              "       [0.48157895, 0.12055336],\n",
              "       [0.48684211, 0.44466403],\n",
              "       [0.46842105, 0.31027668],\n",
              "       [0.43947368, 0.55533597],\n",
              "       [0.38947368, 0.09881423],\n",
              "       [0.41315789, 0.33992095],\n",
              "       [0.32105263, 0.78656126],\n",
              "       [0.39473684, 0.94268775],\n",
              "       [0.64736842, 0.56324111],\n",
              "       [0.47631579, 0.43873518],\n",
              "       [0.5       , 0.40909091],\n",
              "       [0.61315789, 0.35968379],\n",
              "       [0.65526316, 0.48023715],\n",
              "       [0.68157895, 0.83201581],\n",
              "       [0.32105263, 0.62055336],\n",
              "       [0.56052632, 0.55928854],\n",
              "       [0.75      , 0.84980237],\n",
              "       [0.48421053, 0.76482213],\n",
              "       [0.60263158, 0.49407115],\n",
              "       [0.53947368, 0.62450593],\n",
              "       [0.65      , 0.47035573],\n",
              "       [0.46315789, 0.38142292],\n",
              "       [0.54736842, 0.22924901],\n",
              "       [0.57894737, 0.50592885],\n",
              "       [0.40789474, 0.10869565],\n",
              "       [0.56315789, 0.87944664],\n",
              "       [0.73947368, 0.66798419],\n",
              "       [0.37368421, 0.45256917],\n",
              "       [0.87105263, 0.18577075],\n",
              "       [0.64473684, 0.18379447],\n",
              "       [0.35      , 0.61067194],\n",
              "       [0.7       , 0.49802372],\n",
              "       [0.47894737, 0.5       ],\n",
              "       [0.50789474, 0.53557312],\n",
              "       [0.72368421, 0.39920949],\n",
              "       [0.71052632, 0.71541502],\n",
              "       [0.63684211, 0.58498024],\n",
              "       [0.47105263, 0.51976285],\n",
              "       [0.67105263, 0.36363636],\n",
              "       [0.62368421, 0.76284585],\n",
              "       [0.30789474, 0.45256917],\n",
              "       [0.45789474, 0.32608696],\n",
              "       [0.82368421, 0.34980237],\n",
              "       [0.70526316, 0.97035573],\n",
              "       [0.62368421, 0.62648221],\n",
              "       [0.58947368, 0.69960474],\n",
              "       [0.56315789, 0.36561265],\n",
              "       [0.81578947, 0.66403162]])"
            ]
          },
          "execution_count": 64,
          "metadata": {},
          "output_type": "execute_result"
        }
      ],
      "source": [
        "df = dataset.iloc[:,[0,1]].values\n",
        "df"
      ]
    },
    {
      "cell_type": "markdown",
      "metadata": {},
      "source": [
        "## **Valor de k**"
      ]
    },
    {
      "cell_type": "code",
      "execution_count": 65,
      "metadata": {},
      "outputs": [
        {
          "data": {
            "text/plain": [
              "Text(0.5, 1.0, 'Método del codo')"
            ]
          },
          "execution_count": 65,
          "metadata": {},
          "output_type": "execute_result"
        },
        {
          "data": {
            "image/png": "[encoded data removed]",
            "text/plain": [
              "<Figure size 432x288 with 1 Axes>"
            ]
          },
          "metadata": {
            "needs_background": "light"
          },
          "output_type": "display_data"
        }
      ],
      "source": [
        "import matplotlib.pyplot as plt \n",
        "from sklearn.cluster import KMeans\n",
        "val=[]\n",
        "for i in range(1,11):\n",
        "    kmeans = KMeans(n_clusters = i, init = 'k-means++', random_state = 42)\n",
        "    kmeans.fit(df)\n",
        "    val.append(kmeans.inertia_)\n",
        "plt.plot(range(1,11),val)\n",
        "plt.title('Método del codo')"
      ]
    },
    {
      "cell_type": "code",
      "execution_count": 66,
      "metadata": {},
      "outputs": [
        {
          "name": "stdout",
          "output_type": "stream",
          "text": [
            "[2 2 2 2 2 2 2 2 2 2 2 2 2 2 2 2 2 2 2 0 2 0 2 1 2 2 2 2 2 2 2 2 2 2 2 2 2\n",
            " 2 2 0 2 0 2 0 2 0 0 2 2 2 2 2 2 2 2 2 2 2 2 1 1 1 2 1 1 1 2 1 2 1 1 2 2 2\n",
            " 1 1 2 1 1 0 1 1 1 0 1 1 1 1 1 1 1 1 1 1 1 1 1 1 1 0 1 1 1 1 1 1 1 1 1 1 0\n",
            " 1 1 1 1 1 1 1 0 0 1 1 0 0 0 1 1 1 1 0 1 0 1 0 1 1 0 0 0 0 0 2 0 0 0 0 0 0\n",
            " 0 0 0 1 2 0 1 0 0 0 2 2 0 0 0 0 2 0 0 0 2 0 1 1 2 0 0 0 2 0]\n"
          ]
        }
      ],
      "source": [
        "kmeans = KMeans(n_clusters=3, init='k-means++',random_state=42)\n",
        "y_kmeans = kmeans.fit_predict(df)\n",
        "print(y_kmeans)"
      ]
    },
    {
      "cell_type": "markdown",
      "metadata": {},
      "source": [
        "## **Visualizar clusters**"
      ]
    },
    {
      "cell_type": "code",
      "execution_count": 67,
      "metadata": {},
      "outputs": [
        {
          "data": {
            "image/png": "[encoded data removed]",
            "text/plain": [
              "<Figure size 432x288 with 1 Axes>"
            ]
          },
          "metadata": {
            "needs_background": "light"
          },
          "output_type": "display_data"
        }
      ],
      "source": [
        "plt.scatter(df[y_kmeans == 0, 0], df[y_kmeans == 0, 1], s=100 , c ='blue', label='Cluster 1')\n",
        "plt.scatter(df[y_kmeans == 1, 0], df[y_kmeans == 1, 1], s=100 , c ='red', label='Cluster 2')\n",
        "plt.scatter(df[y_kmeans == 2, 0], df[y_kmeans == 2, 1], s=100 , c ='magenta', label='Cluster 3')\n",
        "plt.scatter(kmeans.cluster_centers_[:, 0], kmeans.cluster_centers_[:, 1], s = 300, c = 'yellow', label = 'Centroids')\n",
        "plt.title('Clusters de comparación Alcohol y Malic Acid')\n",
        "plt.xlabel('Alcohol')\n",
        "plt.ylabel('Malic Acid')\n",
        "plt.legend()\n",
        "plt.show()\n"
      ]
    },
    {
      "cell_type": "markdown",
      "metadata": {},
      "source": [
        "## Si utilizaras más de dos variables, ¿Cuáles seleccionarías? Justifica tu respuesta."
      ]
    },
    {
      "cell_type": "markdown",
      "metadata": {},
      "source": [
        " Observamos con el mapa de calor, las correlaciones de las diferentes variables y encontramos que la variable de Alcohol y de Malic Acid tienen una correlación que se beneficiaría del análisis en clusters"
      ]
    },
    {
      "cell_type": "markdown",
      "metadata": {},
      "source": [
        "## ¿Crees que estos centros puedan ser representativos de los datos? ¿Por qué?\n"
      ]
    },
    {
      "cell_type": "markdown",
      "metadata": {},
      "source": [
        "Si, porque la variación que tiene entre los datos de estos centros es óptima, después de haber probado con otros posicionamientos, el algoritmo pudo encontrar el mejor caso comparándolos.  "
      ]
    },
    {
      "cell_type": "markdown",
      "metadata": {},
      "source": []
    },
    {
      "cell_type": "markdown",
      "metadata": {},
      "source": []
    },
    {
      "cell_type": "markdown",
      "metadata": {},
      "source": [
        "## ¿Cómo obtuviste el valor de k a usar?"
      ]
    },
    {
      "cell_type": "markdown",
      "metadata": {},
      "source": [
        "Con la ayuda de la tecnica punto codo pudimos observar donde estaba teniendo un cambio y de ahi agarrramos que nuestra k seria el 3."
      ]
    }
  ],
  "metadata": {
    "colab": {
      "authorship_tag": "ABX9TyNNO4n8AN19S183h5GGvF/q",
      "include_colab_link": true,
      "name": "Patrones con K-means.ipynb",
      "provenance": []
    },
    "interpreter": {
      "hash": "fcf27597daeb3930410aa464ed946a145eb25f4374582f95502df85289e772a3"
    },
    "kernelspec": {
      "display_name": "Python 3.7.6 64-bit ('base': conda)",
      "name": "python3"
    },
    "language_info": {
      "codemirror_mode": {
        "name": "ipython",
        "version": 3
      },
      "file_extension": ".py",
      "mimetype": "text/x-python",
      "name": "python",
      "nbconvert_exporter": "python",
      "pygments_lexer": "ipython3",
      "version": "3.7.6"
    }
  },
  "nbformat": 4,
  "nbformat_minor": 0
}
