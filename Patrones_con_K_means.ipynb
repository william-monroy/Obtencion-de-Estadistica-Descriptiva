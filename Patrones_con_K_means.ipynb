{
  "nbformat": 4,
  "nbformat_minor": 0,
  "metadata": {
    "colab": {
      "name": "Patrones con K-means.ipynb",
      "provenance": [],
      "authorship_tag": "ABX9TyNNO4n8AN19S183h5GGvF/q",
      "include_colab_link": true
    },
    "kernelspec": {
      "name": "python3",
      "display_name": "Python 3"
    },
    "language_info": {
      "name": "python"
    }
  },
  "cells": [
    {
      "cell_type": "markdown",
      "metadata": {
        "id": "view-in-github",
        "colab_type": "text"
      },
      "source": [
        "<a href=\"https://colab.research.google.com/github/william-monroy/Obtencion-de-Estadistica-Descriptiva/blob/master/Patrones_con_K_means.ipynb\" target=\"_parent\"><img src=\"https://colab.research.google.com/assets/colab-badge.svg\" alt=\"Open In Colab\"/></a>"
      ]
    },
    {
      "cell_type": "markdown",
      "metadata": {
        "id": "NY2LbPZ4iI6y"
      },
      "source": [
        "**Actividad Evaluable: Patrones con K-means**\n",
        "\n",
        "*Equipo 4 - Integrantes:*\n",
        "\n",
        "*William Frank Monroy Mamani - A00829796*\n",
        "\n",
        "*José Moisés López Alanís - A01284506*\n",
        "\n",
        "*Sergio Eduardo Chavez Villegas - A01284297*\n",
        "\n",
        "*Ezequiel Lozano Guerrero - A01734172*\n",
        "\n",
        "*Jose Manuel Caceres Esponda - A00831382*\n"
      ]
    },
    {
      "cell_type": "code",
      "metadata": {
        "id": "c4PU5F-tiCAq"
      },
      "source": [
        ""
      ],
      "execution_count": null,
      "outputs": []
    }
  ]
}